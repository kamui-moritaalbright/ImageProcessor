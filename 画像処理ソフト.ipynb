{
  "nbformat": 4,
  "nbformat_minor": 0,
  "metadata": {
    "colab": {
      "provenance": [],
      "authorship_tag": "ABX9TyNtW2GnoaVmp6gQwi1wyIGB",
      "include_colab_link": true
    },
    "kernelspec": {
      "name": "python3",
      "display_name": "Python 3"
    },
    "language_info": {
      "name": "python"
    }
  },
  "cells": [
    {
      "cell_type": "markdown",
      "metadata": {
        "id": "view-in-github",
        "colab_type": "text"
      },
      "source": [
        "<a href=\"https://colab.research.google.com/github/kamui-moritaalbright/ImageProcessor/blob/main/%E7%94%BB%E5%83%8F%E5%87%A6%E7%90%86%E3%82%BD%E3%83%95%E3%83%88.ipynb\" target=\"_parent\"><img src=\"https://colab.research.google.com/assets/colab-badge.svg\" alt=\"Open In Colab\"/></a>"
      ]
    },
    {
      "cell_type": "markdown",
      "source": [
        "## ドライブをマウント（必ず最初に実行）"
      ],
      "metadata": {
        "id": "4SO04JCWb9TS"
      }
    },
    {
      "cell_type": "code",
      "execution_count": 1,
      "metadata": {
        "colab": {
          "base_uri": "https://localhost:8080/"
        },
        "id": "wcZAPPAzb8HB",
        "outputId": "50e13f0b-8496-414d-d777-4946cc3cab2f"
      },
      "outputs": [
        {
          "output_type": "stream",
          "name": "stdout",
          "text": [
            "Mounted at /content/drive\n"
          ]
        }
      ],
      "source": [
        "from google.colab import drive\n",
        "import os\n",
        "drive.mount('/content/drive')"
      ]
    },
    {
      "cell_type": "markdown",
      "source": [
        "## リサイズ"
      ],
      "metadata": {
        "id": "a37svVLldLNT"
      }
    },
    {
      "cell_type": "code",
      "source": [
        "# ここでパス（フォルダ位置）を変更\n",
        "colab_dir = ''\n",
        "from PIL import Image\n",
        "\n",
        "os.chdir(colab_dir)\n",
        "\n",
        "new_folder = 'new_images' # ここで新フォルダ名を設定\n",
        "if not os.path.exists(new_folder):\n",
        "    os.makedirs(new_folder)\n",
        "\n",
        "files = os.listdir()\n",
        "\n",
        "# ファイルの拡張指定\n",
        "image_extensions = ['.jpg', '.jpeg', '.png', '.gif', '.bmp']\n",
        "\n",
        "def process_image(filename):\n",
        "    with Image.open(filename) as img:\n",
        "        # 2000px以上かチェック\n",
        "        if img.width > 2000:\n",
        "            # Ratioを計算\n",
        "            new_height = int(2000 * img.height / img.width)\n",
        "\n",
        "            # 画像リサイズ\n",
        "            resized_img = img.resize((2000, new_height), Image.LANCZOS)\n",
        "\n",
        "            # リサイズ後の画像を保存\n",
        "            resized_img.save(os.path.join(new_folder, filename))\n",
        "            print(f\"Resized and saved: {filename}\")\n",
        "        else:\n",
        "            # 2000px以下の画像はそのまま保存\n",
        "            img.save(os.path.join(new_folder, filename))\n",
        "            print(f\"Copied without resizing: {filename}\")\n",
        "\n",
        "for file in files:\n",
        "    if any(file.lower().endswith(ext) for ext in image_extensions):\n",
        "        try:\n",
        "            process_image(file)\n",
        "        except Exception as e:\n",
        "            print(f\"Error processing {file}: {str(e)}\")\n",
        "\n",
        "print(\"Image processing completed.\")"
      ],
      "metadata": {
        "id": "7GdxKSx6dR_B"
      },
      "execution_count": null,
      "outputs": []
    },
    {
      "cell_type": "markdown",
      "source": [
        "## 修正"
      ],
      "metadata": {
        "id": "Rf2wsg-rh9uw"
      }
    },
    {
      "cell_type": "code",
      "source": [
        "# 画像フォルダへのパス\n",
        "colab_dir = ''\n",
        "\n",
        "# 修正後の画像用フォルダ名\n",
        "new_folder = 'processed_images'\n",
        "\n",
        "# Haarcascadeファイルへのパス\n",
        "cascade_path = '' #（引用元：https://github.com/opencv/opencv/blob/master/data/haarcascades/haarcascade_frontalface_alt.xml\n",
        "\n",
        "import cv2\n",
        "import numpy as np\n",
        "import matplotlib.pyplot as plt\n",
        "\n",
        "def process_image(filename, new_folder, cascade_path):\n",
        "    # OpenCVで画像読み込み\n",
        "    image = cv2.imread(filename)\n",
        "\n",
        "    if image is None:\n",
        "        print(f\"Error: Unable to read the image at {filename}\")\n",
        "        return\n",
        "\n",
        "    # BGRー>RGB\n",
        "    image_rgb = cv2.cvtColor(image, cv2.COLOR_BGR2RGB)\n",
        "\n",
        "    if not os.path.isfile(cascade_path):\n",
        "        print(f\"Error: The Haar Cascade file {cascade_path} does not exist.\")\n",
        "        return\n",
        "\n",
        "    face_detect = cv2.CascadeClassifier(cascade_path)\n",
        "\n",
        "    #　顔のディテクト\n",
        "    face_data = face_detect.detectMultiScale(image_rgb, scaleFactor=1.05, minNeighbors=3)\n",
        "\n",
        "    # 顔の修正\n",
        "    for (x, y, w, h) in face_data:\n",
        "        roi = image_rgb[y:y+h, x:x+w]\n",
        "        # 修正\n",
        "        blurred_roi = cv2.GaussianBlur(roi, (23, 23), 30)\n",
        "        # 修正部位とオリジナルの複合\n",
        "        image_rgb[y:y+h, x:x+w] = blurred_roi\n",
        "\n",
        "    # BGRでセーブ\n",
        "    image_bgr = cv2.cvtColor(image_rgb, cv2.COLOR_RGB2BGR)\n",
        "\n",
        "    # 画像を保存\n",
        "    output_path = os.path.join(new_folder, os.path.basename(filename))\n",
        "    cv2.imwrite(output_path, image_bgr)\n",
        "\n",
        "    print(f\"Processed and saved: {output_path}\")\n",
        "\n",
        "os.chdir(colab_dir)\n",
        "\n",
        "if not os.path.exists(new_folder):\n",
        "    os.makedirs(new_folder)\n",
        "\n",
        "files = os.listdir() #確認用\n",
        "\n",
        "# 画像の拡張を確認\n",
        "image_extensions = ['.jpg', '.jpeg', '.png', '.gif', '.bmp']\n",
        "\n",
        "# 修正ファンクション\n",
        "for file in files:\n",
        "    if any(file.lower().endswith(ext) for ext in image_extensions):\n",
        "        try:\n",
        "            process_image(os.path.join(colab_dir, file), new_folder, cascade_path)\n",
        "        except Exception as e:\n",
        "            print(f\"Error processing {file}: {str(e)}\")\n",
        "\n",
        "print(\"Image processing completed.\")\n",
        "print(f\"Processed images are saved in: {new_folder}\")"
      ],
      "metadata": {
        "colab": {
          "base_uri": "https://localhost:8080/",
          "height": 216
        },
        "id": "FZ1vwdm9ikoh",
        "outputId": "ef231793-fa0c-4778-853e-f7c4494fd51f"
      },
      "execution_count": 3,
      "outputs": [
        {
          "output_type": "error",
          "ename": "FileNotFoundError",
          "evalue": "[Errno 2] No such file or directory: ''",
          "traceback": [
            "\u001b[0;31m---------------------------------------------------------------------------\u001b[0m",
            "\u001b[0;31mFileNotFoundError\u001b[0m                         Traceback (most recent call last)",
            "\u001b[0;32m<ipython-input-3-e5d9934ff11b>\u001b[0m in \u001b[0;36m<cell line: 48>\u001b[0;34m()\u001b[0m\n\u001b[1;32m     46\u001b[0m     \u001b[0mprint\u001b[0m\u001b[0;34m(\u001b[0m\u001b[0;34mf\"Processed and saved: {output_path}\"\u001b[0m\u001b[0;34m)\u001b[0m\u001b[0;34m\u001b[0m\u001b[0;34m\u001b[0m\u001b[0m\n\u001b[1;32m     47\u001b[0m \u001b[0;34m\u001b[0m\u001b[0m\n\u001b[0;32m---> 48\u001b[0;31m \u001b[0mos\u001b[0m\u001b[0;34m.\u001b[0m\u001b[0mchdir\u001b[0m\u001b[0;34m(\u001b[0m\u001b[0mcolab_dir\u001b[0m\u001b[0;34m)\u001b[0m\u001b[0;34m\u001b[0m\u001b[0;34m\u001b[0m\u001b[0m\n\u001b[0m\u001b[1;32m     49\u001b[0m \u001b[0;34m\u001b[0m\u001b[0m\n\u001b[1;32m     50\u001b[0m \u001b[0;31m# 修正後の画像用フォルダ\u001b[0m\u001b[0;34m\u001b[0m\u001b[0;34m\u001b[0m\u001b[0m\n",
            "\u001b[0;31mFileNotFoundError\u001b[0m: [Errno 2] No such file or directory: ''"
          ]
        }
      ]
    }
  ]
}