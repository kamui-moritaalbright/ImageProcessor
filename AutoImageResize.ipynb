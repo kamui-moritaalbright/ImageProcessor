{
  "nbformat": 4,
  "nbformat_minor": 0,
  "metadata": {
    "colab": {
      "provenance": [],
      "authorship_tag": "ABX9TyP8Ua7fP3k2VbouzqPW22Vc",
      "include_colab_link": true
    },
    "kernelspec": {
      "name": "python3",
      "display_name": "Python 3"
    },
    "language_info": {
      "name": "python"
    }
  },
  "cells": [
    {
      "cell_type": "markdown",
      "metadata": {
        "id": "view-in-github",
        "colab_type": "text"
      },
      "source": [
        "<a href=\"https://colab.research.google.com/github/kamui-moritaalbright/ImageProcessor/blob/main/AutoImageResize.ipynb\" target=\"_parent\"><img src=\"https://colab.research.google.com/assets/colab-badge.svg\" alt=\"Open In Colab\"/></a>"
      ]
    },
    {
      "cell_type": "code",
      "execution_count": 4,
      "metadata": {
        "colab": {
          "base_uri": "https://localhost:8080/"
        },
        "id": "7tOPKkhv_YEu",
        "outputId": "85e15538-05a1-4ef4-a071-d9b1a471cc31"
      },
      "outputs": [
        {
          "output_type": "stream",
          "name": "stdout",
          "text": [
            "Drive already mounted at /content/drive; to attempt to forcibly remount, call drive.mount(\"/content/drive\", force_remount=True).\n",
            "Resized and saved: pexels-ali-ramazan-ciftci-82252581-13522012.jpg\n",
            "Resized and saved: pexels-gabriella-ally-3664539-16176400.jpg\n",
            "Copied without resizing: pexels-nastiz-12024377.jpg\n",
            "Image processing completed.\n"
          ]
        }
      ],
      "source": [
        "import os\n",
        "from google.colab import drive\n",
        "from PIL import Image\n",
        "\n",
        "drive.mount('/content/drive')\n",
        "\n",
        "colab_dir = '/content/drive/MyDrive/Work/AutoImageResize/Images'  # ここでフォルダを指定\n",
        "os.chdir(colab_dir)\n",
        "\n",
        "new_folder = 'new_images' # ここで新フォルダ名を設定\n",
        "if not os.path.exists(new_folder):\n",
        "    os.makedirs(new_folder)\n",
        "\n",
        "files = os.listdir()\n",
        "\n",
        "# ファイルの拡張指定\n",
        "image_extensions = ['.jpg', '.jpeg', '.png', '.gif', '.bmp']\n",
        "\n",
        "def process_image(filename):\n",
        "    with Image.open(filename) as img:\n",
        "        # 2000px以上かチェック\n",
        "        if img.width > 2000:\n",
        "            # Ratioを計算\n",
        "            new_height = int(2000 * img.height / img.width)\n",
        "\n",
        "            # 画像リサイズ\n",
        "            resized_img = img.resize((2000, new_height), Image.LANCZOS)\n",
        "\n",
        "            # リサイズ後の画像を保存\n",
        "            resized_img.save(os.path.join(new_folder, filename))\n",
        "            print(f\"Resized and saved: {filename}\")\n",
        "        else:\n",
        "            # 2000px以下の画像はそのまま保存\n",
        "            img.save(os.path.join(new_folder, filename))\n",
        "            print(f\"Copied without resizing: {filename}\")\n",
        "\n",
        "for file in files:\n",
        "    if any(file.lower().endswith(ext) for ext in image_extensions):\n",
        "        try:\n",
        "            process_image(file)\n",
        "        except Exception as e:\n",
        "            print(f\"Error processing {file}: {str(e)}\")\n",
        "\n",
        "print(\"Image processing completed.\")"
      ]
    }
  ]
}