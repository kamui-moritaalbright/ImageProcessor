{
  "nbformat": 4,
  "nbformat_minor": 0,
  "metadata": {
    "colab": {
      "provenance": [],
      "authorship_tag": "ABX9TyOlHjoUndkUYmUnaSleY81d",
      "include_colab_link": true
    },
    "kernelspec": {
      "name": "python3",
      "display_name": "Python 3"
    },
    "language_info": {
      "name": "python"
    }
  },
  "cells": [
    {
      "cell_type": "markdown",
      "metadata": {
        "id": "view-in-github",
        "colab_type": "text"
      },
      "source": [
        "<a href=\"https://colab.research.google.com/github/kamui-moritaalbright/ImageProcessor/blob/main/AutoImageResize.ipynb\" target=\"_parent\"><img src=\"https://colab.research.google.com/assets/colab-badge.svg\" alt=\"Open In Colab\"/></a>"
      ]
    },
    {
      "cell_type": "code",
      "execution_count": 4,
      "metadata": {
        "colab": {
          "base_uri": "https://localhost:8080/"
        },
        "id": "7tOPKkhv_YEu",
        "outputId": "85e15538-05a1-4ef4-a071-d9b1a471cc31"
      },
      "outputs": [
        {
          "output_type": "stream",
          "name": "stdout",
          "text": [
            "Drive already mounted at /content/drive; to attempt to forcibly remount, call drive.mount(\"/content/drive\", force_remount=True).\n",
            "Resized and saved: pexels-ali-ramazan-ciftci-82252581-13522012.jpg\n",
            "Resized and saved: pexels-gabriella-ally-3664539-16176400.jpg\n",
            "Copied without resizing: pexels-nastiz-12024377.jpg\n",
            "Image processing completed.\n"
          ]
        }
      ],
      "source": [
        "import os\n",
        "from google.colab import drive\n",
        "from PIL import Image\n",
        "\n",
        "# Mount Google Drive\n",
        "drive.mount('/content/drive')\n",
        "\n",
        "# Change to the directory where the Colab notebook is located\n",
        "colab_dir = '/content/drive/MyDrive/Work/AutoImageResize/Images'  # Adjust this path if necessary\n",
        "os.chdir(colab_dir)\n",
        "\n",
        "# Create a new folder for processed images\n",
        "new_folder = 'new_images'\n",
        "if not os.path.exists(new_folder):\n",
        "    os.makedirs(new_folder)\n",
        "\n",
        "# List all files in the current directory\n",
        "files = os.listdir()\n",
        "\n",
        "# List of common image file extensions\n",
        "image_extensions = ['.jpg', '.jpeg', '.png', '.gif', '.bmp']\n",
        "\n",
        "def process_image(filename):\n",
        "    # Open the image\n",
        "    with Image.open(filename) as img:\n",
        "        # Check if width is over 2000px\n",
        "        if img.width > 2000:\n",
        "            # Calculate new height to maintain aspect ratio\n",
        "            new_height = int(2000 * img.height / img.width)\n",
        "\n",
        "            # Resize the image\n",
        "            resized_img = img.resize((2000, new_height), Image.LANCZOS)\n",
        "\n",
        "            # Save the resized image\n",
        "            resized_img.save(os.path.join(new_folder, filename))\n",
        "            print(f\"Resized and saved: {filename}\")\n",
        "        else:\n",
        "            # If width is 2000px or less, just copy the original image\n",
        "            img.save(os.path.join(new_folder, filename))\n",
        "            print(f\"Copied without resizing: {filename}\")\n",
        "\n",
        "# Process each image file\n",
        "for file in files:\n",
        "    if any(file.lower().endswith(ext) for ext in image_extensions):\n",
        "        try:\n",
        "            process_image(file)\n",
        "        except Exception as e:\n",
        "            print(f\"Error processing {file}: {str(e)}\")\n",
        "\n",
        "print(\"Image processing completed.\")"
      ]
    }
  ]
}